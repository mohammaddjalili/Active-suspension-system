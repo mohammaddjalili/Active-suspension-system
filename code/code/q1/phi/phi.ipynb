{
  "nbformat": 4,
  "nbformat_minor": 0,
  "metadata": {
    "colab": {
      "provenance": []
    },
    "kernelspec": {
      "name": "python3",
      "display_name": "Python 3"
    },
    "language_info": {
      "name": "python"
    }
  },
  "cells": [
    {
      "cell_type": "code",
      "execution_count": null,
      "metadata": {
        "id": "LLJX6Z5tnADE"
      },
      "outputs": [],
      "source": [
        "import sympy as sp\n",
        "\n",
        "# Define symbolic variable t\n",
        "t = sp.symbols('t')\n",
        "\n",
        "# System parameter values\n",
        "M1 = 700  # kg\n",
        "M2 = 90   # kg\n",
        "k1 = 62000  # N/m\n",
        "k2 = 570000  # N/m\n",
        "b1 = 500    # N.s/m\n",
        "b2 = 22500  # N.s/m\n",
        "\n",
        "# System matrix A\n",
        "A = sp.Matrix([[0, 1, 0, 0],\n",
        "               [0, 0, -88.6, -0.7],\n",
        "               [0, 0, 0, 1],\n",
        "               [6333.3, 250, -7110.8, -256.3]])\n",
        "\n",
        "# Calculate the state transition matrix Φ(t) = exp(A*t)\n",
        "Phi_t = sp.exp(A * t)\n",
        "\n",
        "print(\"State transition matrix Φ(t):\")\n",
        "sp.pprint(Phi_t)\n"
      ]
    }
  ]
}