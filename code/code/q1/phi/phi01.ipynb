{
  "nbformat": 4,
  "nbformat_minor": 0,
  "metadata": {
    "colab": {
      "provenance": []
    },
    "kernelspec": {
      "name": "python3",
      "display_name": "Python 3"
    },
    "language_info": {
      "name": "python"
    }
  },
  "cells": [
    {
      "cell_type": "code",
      "source": [
        "import numpy as np\n",
        "from scipy.linalg import expm\n",
        "A = np.array([[0, 1, 0, 0],\n",
        "              [0, 0, -88.6, -0.7],\n",
        "              [0, 0, 0, 1],\n",
        "              [6333.3, 250, -7110.8, -256.3]])\n",
        "t = 0.1\n",
        "phi = expm(np.array(A) * t)\n",
        "print(phi)\n"
      ],
      "metadata": {
        "colab": {
          "base_uri": "https://localhost:8080/"
        },
        "id": "epMVRp0MrbOx",
        "outputId": "1c463477-2e07-44f6-d3f9-f3320a6d7e7a"
      },
      "execution_count": 3,
      "outputs": [
        {
          "output_type": "stream",
          "name": "stdout",
          "text": [
            "[[ 7.76666690e-01  8.46070110e-02 -1.56188337e-01 -8.06686104e-04]\n",
            " [-5.10898510e+00  5.74995164e-01 -1.75999763e+00 -8.65959623e-03]\n",
            " [ 6.45285395e-01  7.80372231e-02 -9.48818652e-02 -5.25220482e-04]\n",
            " [-3.32637888e+00  5.13980275e-01 -3.17936016e+00 -1.48939119e-02]]\n"
          ]
        }
      ]
    }
  ]
}